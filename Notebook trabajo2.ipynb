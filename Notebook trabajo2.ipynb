{
  "cells": [
    {
      "cell_type": "code",
      "execution_count": 0,
      "metadata": {
        "autoscroll": "auto"
      },
      "outputs": [],
      "source": [
        "%flink.ssql\n",
        "DROP TABLE IF EXISTS input_table;\n",
        "CREATE TABLE input_table (\n",
        "  InvoiceNo STRING,\n",
        "  Customer STRING,\n",
        "  InvoiceDate STRING,\n",
        "  Quantity STRING,\n",
        "  Description STRING,\n",
        "  UnitPrice STRING,\n",
        "  Country STRING,\n",
        "  StockCode STRING\n",
        ") WITH (\n",
        "  'connector' = 'kinesis',\n",
        "  'stream' = 'acmecoOrders',\n",
        "  'aws.region' = 'us-east-1',\n",
        "  'aws.endpoint' = 'https://vpce-01a4f644e54dd6b87-upj1u2gs.kinesis.us-east-1.vpce.amazonaws.com',\n",
        "\n",
        "  'aws.clientconfig.connectionTimeout' = '5000',\n",
        "  'aws.clientconfig.requestTimeout'    = '20000',\n",
        "  'aws.clientconfig.maxConnections'    = '200',\n",
        "\n",
        "  'scan.shard.getrecords.intervalmillis' = '100',\n",
        "  'scan.stream.initpos' = 'LATEST',\n",
        "  'aws.credentials.provider' = 'AUTO',\n",
        "\n",
        "  'format' = 'json',\n",
        "  'json.ignore-parse-errors' = 'true',\n",
        "  'json.fail-on-missing-field' = 'false'\n",
        ");"
      ]
    },
    {
      "cell_type": "code",
      "execution_count": 1,
      "metadata": {
        "autoscroll": "auto"
      },
      "outputs": [],
      "source": [
        "%flink.ssql\n",
        "DROP TABLE IF EXISTS output_table;\n",
        "CREATE TABLE output_table (\n",
        "  StockCode STRING,\n",
        "  InvoiceDate STRING,\n",
        "  Quantity INT,\n",
        "  Description STRING,\n",
        "  UnitPrice DOUBLE,\n",
        "  Country STRING\n",
        ") WITH (\n",
        "  'connector' = 'kinesis',\n",
        "  'stream' = 'alertsStream',\n",
        "  'aws.region' = 'us-east-1',\n",
        "  'aws.endpoint' = 'https://vpce-01a4f644e54dd6b87-upj1u2gs.kinesis.us-east-1.vpce.amazonaws.com',\n",
        "\n",
        "  'aws.clientconfig.connectionTimeout' = '5000',\n",
        "  'aws.clientconfig.requestTimeout'    = '20000',\n",
        "  'aws.clientconfig.maxConnections'    = '200',\n",
        "  'aws.credentials.provider' = 'AUTO',\n",
        "\n",
        "  'format' = 'json',\n",
        "  'json.ignore-parse-errors' = 'true',\n",
        "  'json.fail-on-missing-field' = 'false'\n",
        ");\n"
      ]
    },
    {
      "cell_type": "code",
      "execution_count": 2,
      "metadata": {
        "autoscroll": "auto"
      },
      "outputs": [],
      "source": [
        "%flink.ssql\n",
        "\n",
        "SELECT\n",
        "  InvoiceNo,\n",
        "  CAST(Customer AS BIGINT) AS Customer,\n",
        "  InvoiceDate,\n",
        "  CAST(Quantity AS INT) AS Quantity,\n",
        "  Description,\n",
        "  CAST(UnitPrice AS DOUBLE) AS UnitPrice,\n",
        "  Country,\n",
        "  StockCode\n",
        "FROM input_table;\n"
      ]
    },
    {
      "cell_type": "code",
      "execution_count": null,
      "metadata": {
        "autoscroll": "auto"
      },
      "outputs": [],
      "source": [
        "%flink.ssql\n",
        "INSERT INTO output_table\n",
        "SELECT\n",
        "  StockCode,\n",
        "  InvoiceDate,\n",
        "  CAST(Quantity AS INT) AS Quantity,\n",
        "  Description,\n",
        "  CAST(UnitPrice AS DOUBLE) AS UnitPrice,\n",
        "  Country\n",
        "FROM input_table WHERE CAST(Quantity AS INT) < 1;\n"
      ]
    },
    {
      "cell_type": "code",
      "execution_count": 4,
      "metadata": {
        "autoscroll": "auto"
      },
      "outputs": [],
      "source": [
        "%flink.ssql\n"
      ]
    }
  ],
  "metadata": {
    "kernelspec": {
      "language": "scala",
      "name": "spark2-scala"
    },
    "language_info": {
      "codemirror_mode": "text/x-scala",
      "file_extension": ".scala",
      "mimetype": "text/x-scala",
      "name": "scala",
      "pygments_lexer": "scala"
    },
    "name": "Notebook trabajo2"
  },
  "nbformat": 4,
  "nbformat_minor": 2
}
